{
 "cells": [
  {
   "cell_type": "code",
   "execution_count": null,
   "id": "edfa9317",
   "metadata": {},
   "outputs": [],
   "source": [
    "import numpy as np\n",
    "import pandas as pd\n",
    "import matplotlib.pyplot as plt"
   ]
  },
  {
   "cell_type": "code",
   "execution_count": null,
   "id": "baf41655",
   "metadata": {},
   "outputs": [],
   "source": [
    "frame = pd.read_csv(\"./temperature.csv\")\n"
   ]
  },
  {
   "cell_type": "code",
   "execution_count": null,
   "id": "bdaac1a6",
   "metadata": {},
   "outputs": [],
   "source": [
    "y = np.array(frame[frame.columns[0]], dtype=float)\n",
    "x = np.array(frame[frame.columns[1]])"
   ]
  },
  {
   "cell_type": "code",
   "execution_count": null,
   "id": "b68358fe",
   "metadata": {},
   "outputs": [],
   "source": [
    "# Plot the data\n",
    "plt.plot(x[::100], y[::100])\n",
    "# Set y-axis range 0 to 2500\n",
    "plt.ylim(0, 2500)\n",
    "plt.xlabel('Time')\n",
    "plt.ylabel('Temperature')\n",
    "plt.title('Temperature over time')\n",
    "plt.show()"
   ]
  },
  {
   "cell_type": "code",
   "execution_count": null,
   "id": "974ed13c",
   "metadata": {},
   "outputs": [],
   "source": []
  }
 ],
 "metadata": {
  "kernelspec": {
   "display_name": "Python 3 (ipykernel)",
   "language": "python",
   "name": "python3"
  },
  "language_info": {
   "codemirror_mode": {
    "name": "ipython",
    "version": 3
   },
   "file_extension": ".py",
   "mimetype": "text/x-python",
   "name": "python",
   "nbconvert_exporter": "python",
   "pygments_lexer": "ipython3",
   "version": "3.11.5"
  }
 },
 "nbformat": 4,
 "nbformat_minor": 5
}
