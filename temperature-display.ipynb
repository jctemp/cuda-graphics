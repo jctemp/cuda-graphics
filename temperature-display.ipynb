{
 "cells": [
  {
   "cell_type": "code",
   "execution_count": null,
   "id": "edfa9317",
   "metadata": {},
   "outputs": [],
   "source": [
    "import numpy as np\n",
    "import pandas as pd\n",
    "import matplotlib.pyplot as plt"
   ]
  },
  {
   "cell_type": "code",
   "execution_count": null,
   "id": "baf41655",
   "metadata": {},
   "outputs": [],
   "source": [
    "frame = pd.read_csv(\"./temperature.csv\")\n"
   ]
  },
  {
   "cell_type": "code",
   "execution_count": null,
   "id": "bdaac1a6",
   "metadata": {},
   "outputs": [],
   "source": [
    "temp = np.array(frame[frame.columns[0]])\n",
    "pres = np.array(frame[frame.columns[1]])\n",
    "time = np.array(frame[frame.columns[2]])"
   ]
  },
  {
   "cell_type": "code",
   "execution_count": null,
   "id": "b68358fe",
   "metadata": {},
   "outputs": [],
   "source": [
    "# Plot the data\n",
    "plt.plot(time[::100], temp[::100])\n",
    "plt.ylim(0, 10)\n",
    "plt.xlabel('Time')\n",
    "plt.ylabel('Temperature')\n",
    "plt.show()\n",
    "plt.savefig('temperature.png')\n",
    "\n",
    "plt.plot(time[::100], pres[::100])\n",
    "plt.ylim(0, 50000)\n",
    "plt.xlabel('Time')\n",
    "plt.ylabel('Pressure')\n",
    "plt.show()\n",
    "plt.savefig('pressure.png')\n"
   ]
  },
  {
   "cell_type": "code",
   "execution_count": null,
   "id": "2ff89e1c",
   "metadata": {},
   "outputs": [],
   "source": []
  },
  {
   "cell_type": "code",
   "execution_count": null,
   "id": "a097385f",
   "metadata": {},
   "outputs": [],
   "source": []
  }
 ],
 "metadata": {
  "kernelspec": {
   "display_name": "Python 3 (ipykernel)",
   "language": "python",
   "name": "python3"
  },
  "language_info": {
   "codemirror_mode": {
    "name": "ipython",
    "version": 3
   },
   "file_extension": ".py",
   "mimetype": "text/x-python",
   "name": "python",
   "nbconvert_exporter": "python",
   "pygments_lexer": "ipython3",
   "version": "3.11.5"
  }
 },
 "nbformat": 4,
 "nbformat_minor": 5
}
